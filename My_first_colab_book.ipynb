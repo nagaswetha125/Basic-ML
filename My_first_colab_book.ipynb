{
  "nbformat": 4,
  "nbformat_minor": 0,
  "metadata": {
    "colab": {
      "name": "My first colab book",
      "provenance": [],
      "authorship_tag": "ABX9TyOE197Nb0gsRRajBt2KL5h0",
      "include_colab_link": true
    },
    "kernelspec": {
      "name": "python3",
      "display_name": "Python 3"
    },
    "language_info": {
      "name": "python"
    }
  },
  "cells": [
    {
      "cell_type": "markdown",
      "metadata": {
        "id": "view-in-github",
        "colab_type": "text"
      },
      "source": [
        "<a href=\"https://colab.research.google.com/github/nagaswetha125/Basic-ML/blob/main/My_first_colab_book.ipynb\" target=\"_parent\"><img src=\"https://colab.research.google.com/assets/colab-badge.svg\" alt=\"Open In Colab\"/></a>"
      ]
    },
    {
      "cell_type": "markdown",
      "metadata": {
        "id": "g41JNnHRsyv8"
      },
      "source": [
        "factorial of a number"
      ]
    },
    {
      "cell_type": "code",
      "metadata": {
        "id": "6XRPq7thpGL1",
        "colab": {
          "base_uri": "https://localhost:8080/"
        },
        "outputId": "04a756ed-f8f1-4a63-b2cd-a6487d1e4063"
      },
      "source": [
        "x = int(input(\"Enter a number\")) #taking user input\n",
        "fact = 1\n",
        "for i in range(1,x+1):\n",
        "  fact = fact*i #finding multiplication of numbers\n",
        "print(\"Factorial of number is\",fact)"
      ],
      "execution_count": null,
      "outputs": [
        {
          "output_type": "stream",
          "text": [
            "Enter a number5\n",
            "Factorial of number is 120\n"
          ],
          "name": "stdout"
        }
      ]
    },
    {
      "cell_type": "markdown",
      "metadata": {
        "id": "-mbfSHrJtAo2"
      },
      "source": [
        "Check given alphabhet is in Uppercase or Lowercase"
      ]
    },
    {
      "cell_type": "code",
      "metadata": {
        "colab": {
          "base_uri": "https://localhost:8080/"
        },
        "id": "Zk9kAvexruNU",
        "outputId": "c90d9af1-5e21-42c6-e8b9-c657aea778f0"
      },
      "source": [
        "x = input(\"Enter any single alphabhet:\")\n",
        "if x.isupper():\n",
        "  print(\"Uppercase\")\n",
        "else:\n",
        "  print(\"Lowercase\")"
      ],
      "execution_count": null,
      "outputs": [
        {
          "output_type": "stream",
          "text": [
            "Enter any single alphabhet:A\n",
            "Uppercase\n"
          ],
          "name": "stdout"
        }
      ]
    },
    {
      "cell_type": "markdown",
      "metadata": {
        "id": "OiLSfs_W6o5v"
      },
      "source": [
        "Check whether given number is a palindrome or not"
      ]
    },
    {
      "cell_type": "code",
      "metadata": {
        "colab": {
          "base_uri": "https://localhost:8080/"
        },
        "id": "U22BkeS0sY2C",
        "outputId": "b2b33430-ae24-46cb-d3e8-d45f53f5f623"
      },
      "source": [
        "x = int(input(\"Enter any number:\"))#taking user input\n",
        "no = x\n",
        "rev = 0\n",
        "while x!=0:\n",
        "  rem = x%10 #extracting last digit\n",
        "  rev = rev*10+rem\n",
        "  x = x//10 # removing last digit\n",
        "if no==rev:\n",
        "  print(\"Given number is palindrome\")\n",
        "else:\n",
        "  print(\"Not palindrome\")"
      ],
      "execution_count": null,
      "outputs": [
        {
          "output_type": "stream",
          "text": [
            "Enter any number:1551\n",
            "Given number is palindrome\n"
          ],
          "name": "stdout"
        }
      ]
    }
  ]
}